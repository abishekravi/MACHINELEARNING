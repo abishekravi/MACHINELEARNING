{
  "nbformat": 4,
  "nbformat_minor": 0,
  "metadata": {
    "kernelspec": {
      "display_name": "Python 3",
      "language": "python",
      "name": "python3"
    },
    "language_info": {
      "codemirror_mode": {
        "name": "ipython",
        "version": 3
      },
      "file_extension": ".py",
      "mimetype": "text/x-python",
      "name": "python",
      "nbconvert_exporter": "python",
      "pygments_lexer": "ipython3",
      "version": "3.6.5"
    },
    "colab": {
      "name": "beautiful soup.ipynb",
      "provenance": [],
      "include_colab_link": true
    }
  },
  "cells": [
    {
      "cell_type": "markdown",
      "metadata": {
        "id": "view-in-github",
        "colab_type": "text"
      },
      "source": [
        "<a href=\"https://colab.research.google.com/github/abishekravi/MACHINELEARNING/blob/master/beautiful_soup.ipynb\" target=\"_parent\"><img src=\"https://colab.research.google.com/assets/colab-badge.svg\" alt=\"Open In Colab\"/></a>"
      ]
    },
    {
      "cell_type": "code",
      "metadata": {
        "id": "YMIg8xtsQdkk",
        "colab_type": "code",
        "colab": {}
      },
      "source": [
        "#import the library used to query a website\n",
        "import urllib.request"
      ],
      "execution_count": null,
      "outputs": []
    },
    {
      "cell_type": "code",
      "metadata": {
        "id": "3SfUoG0yQdkq",
        "colab_type": "code",
        "colab": {}
      },
      "source": [
        "#specify the url\n",
        "wiki=#enter link to the website"
      ],
      "execution_count": null,
      "outputs": []
    },
    {
      "cell_type": "code",
      "metadata": {
        "id": "drEDWSZ5Qdkt",
        "colab_type": "code",
        "colab": {}
      },
      "source": [
        "#query the website and return the html to the variable page\n",
        "page=urllib.request.urlopen(wiki)"
      ],
      "execution_count": null,
      "outputs": []
    },
    {
      "cell_type": "code",
      "metadata": {
        "id": "IPcPifNVQdkv",
        "colab_type": "code",
        "colab": {}
      },
      "source": [
        "#import the beautiful soup functions to parse the data\n",
        "from bs4 import BeautifulSoup"
      ],
      "execution_count": null,
      "outputs": []
    },
    {
      "cell_type": "code",
      "metadata": {
        "id": "QvYwuTSaQdk3",
        "colab_type": "code",
        "colab": {}
      },
      "source": [
        "#parse the html in the page variable\n",
        "soup=BeautifulSoup(page)"
      ],
      "execution_count": null,
      "outputs": []
    },
    {
      "cell_type": "code",
      "metadata": {
        "id": "n0_CJ4esQdk-",
        "colab_type": "code",
        "colab": {}
      },
      "source": [
        "#use function prettify to look at the nested structure of HTML page\n",
        "print(soup.prettify())"
      ],
      "execution_count": null,
      "outputs": []
    },
    {
      "cell_type": "code",
      "metadata": {
        "id": "AWiVVWTaQdlA",
        "colab_type": "code",
        "colab": {}
      },
      "source": [
        "soup.title #return content between opening and closing tag"
      ],
      "execution_count": null,
      "outputs": []
    },
    {
      "cell_type": "code",
      "metadata": {
        "id": "7rQ5Aaz1QdlC",
        "colab_type": "code",
        "colab": {}
      },
      "source": [
        "soup.title.string #soup.<tag>.string: return string within given tag"
      ],
      "execution_count": null,
      "outputs": []
    },
    {
      "cell_type": "code",
      "metadata": {
        "id": "vEyiuDdKQdlF",
        "colab_type": "code",
        "colab": {}
      },
      "source": [
        "soup.a"
      ],
      "execution_count": null,
      "outputs": []
    },
    {
      "cell_type": "code",
      "metadata": {
        "id": "zKKZdU09QdlH",
        "colab_type": "code",
        "colab": {}
      },
      "source": [
        "soup.find_all('a')"
      ],
      "execution_count": null,
      "outputs": []
    },
    {
      "cell_type": "code",
      "metadata": {
        "id": "sOqCNfG5QdlK",
        "colab_type": "code",
        "colab": {}
      },
      "source": [
        "all_tables=soup.find_all('table')"
      ],
      "execution_count": null,
      "outputs": []
    },
    {
      "cell_type": "code",
      "metadata": {
        "id": "WM5m-_oYQdlM",
        "colab_type": "code",
        "colab": {}
      },
      "source": [
        "right_table=soup.find('table',class_='wikitable sortable plainrowheaders')\n",
        "right_table"
      ],
      "execution_count": null,
      "outputs": []
    },
    {
      "cell_type": "code",
      "metadata": {
        "id": "eQ5OHpf8QdlO",
        "colab_type": "code",
        "colab": {}
      },
      "source": [
        "#generate lists\n",
        "A=[]\n",
        "B=[]\n",
        "C=[]\n",
        "D=[]\n",
        "E=[]\n",
        "F=[]\n",
        "G=[]\n",
        "for row in right_tabke.findAll(\"tr\"):\n",
        "    cells=row.findAll('td')\n",
        "    states=row.findAll('th')\n",
        "    if len(cells)==6:\n",
        "        A.append(cells[0].find(text=True))\n",
        "        B.append(states[0].find(text=True))\n",
        "        C.append(cells[1].find(text=True))\n",
        "        D.append(cells[2].find(text=True))\n",
        "        E.append(cells[3].find(text=True))\n",
        "        F.append(cells[4].find(text=True))\n",
        "        G.append(cells[5].find(text=True))"
      ],
      "execution_count": null,
      "outputs": []
    },
    {
      "cell_type": "code",
      "metadata": {
        "id": "zL1nbghCQdlQ",
        "colab_type": "code",
        "colab": {}
      },
      "source": [
        "import pandas as pd\n",
        "df=pd.DataFrame(A,columns=['Number'])\n",
        "df['State']=B\n",
        "df['Admin_capital']=C\n",
        "df['legislative_capital']=D\n",
        "df['judiciary_capital']=E\n",
        "df['Year_capital']=f\n",
        "df['former_capital']=G\n",
        "df"
      ],
      "execution_count": null,
      "outputs": []
    }
  ]
}